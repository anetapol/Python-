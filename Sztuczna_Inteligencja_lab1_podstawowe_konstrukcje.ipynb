{
  "nbformat": 4,
  "nbformat_minor": 0,
  "metadata": {
    "colab": {
      "provenance": [],
      "collapsed_sections": [],
      "authorship_tag": "ABX9TyNCM7M05QlNhaCS3lrRHbdq",
      "include_colab_link": true
    },
    "kernelspec": {
      "name": "python3",
      "display_name": "Python 3"
    },
    "language_info": {
      "name": "python"
    }
  },
  "cells": [
    {
      "cell_type": "markdown",
      "metadata": {
        "id": "view-in-github",
        "colab_type": "text"
      },
      "source": [
        "<a href=\"https://colab.research.google.com/github/anetapol/Python-/blob/master/Sztuczna_Inteligencja_lab1_podstawowe_konstrukcje.ipynb\" target=\"_parent\"><img src=\"https://colab.research.google.com/assets/colab-badge.svg\" alt=\"Open In Colab\"/></a>"
      ]
    },
    {
      "cell_type": "markdown",
      "source": [
        "**Uwaga:** Możesz używać również edytora online: [CoCalc Jupyter Notebooks](https://cocalc.com/features/jupyter-notebook) "
      ],
      "metadata": {
        "id": "YZpxB4bffU_B"
      }
    },
    {
      "cell_type": "markdown",
      "source": [
        "# **Sztuczna inteligencja - laboratorium 1**\n",
        "**Prowadzący:** dr Aneta Polewko-Klim\n",
        "\n",
        "**Zagadnienia:** Zmienne, konstrukcje i biblioteki języka Python w kontekście ich wykorzystania w analizie danych i implementacji algorytmów sztucznej inteligencji. Wstępne przetwarzanie danych.\n",
        "\n",
        "**Sprawozdanie z zajęć Autor:** wpisz swoje imie i nazwisko"
      ],
      "metadata": {
        "id": "GiuMgbZ7gByZ"
      }
    },
    {
      "cell_type": "markdown",
      "source": [
        "# Typy danych"
      ],
      "metadata": {
        "id": "q7poxggDz1m2"
      }
    },
    {
      "cell_type": "markdown",
      "source": [
        "### **Listy**\n",
        "Wybrane metody:\n",
        "\n",
        "**append(x)** - Dodaje element x do końca listy,\n",
        "\n",
        "**extend(L)** rozszerza listę poprzez dołączenie wszystkich elementów podanej listy L,\n",
        "**insert(i, x)** - umieszcza element x na podaną i-pozycję listy, np. nazwaLista.\n",
        "insert(0,'Ala')\n",
        "\n",
        "**remove(x)** - usuwa pierwszy napotkany element z listy, którego wartością jest x.\n",
        "\n",
        "**pop([i])** - usuwa element z podanej i-pozycji na liście i zwraca go jako wynik.\n",
        "\n",
        "**index(x)** - zwraca indeks pierwszego elementu listy, którego wartością jest x, np. cars.index('BMW')\n",
        "\n",
        "**count(x)** - zwraca liczbę wystąpień elementu x na liście.\n",
        "\n",
        "**sort()** - sortuje elementy na liście, w niej samej\n",
        "\n",
        "**reverse()** - odwraca porządek elementów listy."
      ],
      "metadata": {
        "id": "YA54WQE4hMCF"
      }
    },
    {
      "cell_type": "code",
      "source": [
        "list1 = ['Informatyka', 1, True] \n",
        "id_0 =  list1[0] # uwaga numeracja wektora/listy itd. jest od 0 \n",
        "print(list1[0])  # odwoływanie się do elementów listy\n",
        "print('Element pierwszy listy {}, element drugi listy {d}. '.format(id_0, d = list1[1])) \n"
      ],
      "metadata": {
        "colab": {
          "base_uri": "https://localhost:8080/"
        },
        "id": "ONRs2sLfsCKZ",
        "outputId": "71d04bdd-8a49-4de9-92b2-ede921e8faec"
      },
      "execution_count": null,
      "outputs": [
        {
          "output_type": "stream",
          "name": "stdout",
          "text": [
            "Informatyka\n",
            "Element pierwszy listy Informatyka, element drugi listy 1. \n"
          ]
        }
      ]
    },
    {
      "cell_type": "code",
      "source": [
        "list2 = list() # lub list2 = []  pusta lista \n",
        "list2.append('Nowy element listy')\n",
        "list2"
      ],
      "metadata": {
        "colab": {
          "base_uri": "https://localhost:8080/"
        },
        "id": "ve4r1kfZup0v",
        "outputId": "b581edeb-0dca-4cdc-a58b-b82af64f5719"
      },
      "execution_count": null,
      "outputs": [
        {
          "output_type": "execute_result",
          "data": {
            "text/plain": [
              "['Nowy element listy']"
            ]
          },
          "metadata": {},
          "execution_count": 18
        }
      ]
    },
    {
      "cell_type": "markdown",
      "source": [
        "### **Słowniki**\n",
        "Wybrane metody:\n",
        "\n",
        "**var_dict.clear()** - usuwa wszystkie klucze ze słownika var_dict\n",
        "\n",
        "**var_dict.get(klucz)** - zwraca wartość dla podanego klucza, gdy klucza nie ma w słowniku zwraca None\n",
        "\n",
        "**var_dict.has_key(klucz)** - zwraca True gdy klucz jest w słowniku, False w przeciwnym razie,\n",
        "\n",
        "**var_dict.items()** - zwraca listę dwuelementowych krotek (klucz, wartość)\n",
        "\n",
        "**var_dict.keys()** - zwraca listę wszystkich kluczy\n",
        "\n",
        "**var_dict.values()** - zwraca listę wszystkich wartości"
      ],
      "metadata": {
        "id": "0_zT3fcCvDMb"
      }
    },
    {
      "cell_type": "code",
      "source": [
        "cars_countries = {\n",
        "      'Germany': ['Audi', 'BMW'],\n",
        "      'Asia': {'Japan': ['Toyota', 'Honda']}\n",
        "}\n",
        "\n",
        "keys = cars_countries.keys()   # klucze słownika\n",
        "print(keys)\n",
        "len(cars_countries) # funkcja len liczy długość, ilość elementów\n",
        "del cars_countries['Germany'] # funkcja del usuwa klucz 'Germany' z słownika cars_countries\n",
        "print(cars_countries)\n",
        "cars_countries['Poland'] = 'Polonez' # dodawanie elementów\n",
        "print(cars_countries)\n",
        "\n"
      ],
      "metadata": {
        "colab": {
          "base_uri": "https://localhost:8080/"
        },
        "id": "lwOXMxYSwMln",
        "outputId": "c1f1c332-41f7-47a5-864e-bf108725fbc5"
      },
      "execution_count": null,
      "outputs": [
        {
          "output_type": "stream",
          "name": "stdout",
          "text": [
            "dict_keys(['Germany', 'Asia'])\n",
            "{'Asia': {'Japan': ['Toyota', 'Honda']}}\n",
            "{'Asia': {'Japan': ['Toyota', 'Honda']}, 'Poland': 'Polonez'}\n"
          ]
        }
      ]
    },
    {
      "cell_type": "markdown",
      "source": [
        "### **Zbiory**\n",
        "Wybrane operacje na zbiorach:"
      ],
      "metadata": {
        "id": "6HG6hrOWyScn"
      }
    },
    {
      "cell_type": "code",
      "source": [
        "my_list = [5, 1, 1, 2, 3]\n",
        "a = set(my_list)\n",
        "b = set([4, 5, 6, 7, 8])"
      ],
      "metadata": {
        "id": "iOVnvApuyTLT"
      },
      "execution_count": 24,
      "outputs": []
    },
    {
      "cell_type": "code",
      "source": [
        "print(a & b)\n",
        "print(a.intersection(b)) # operacja równoważna do powyższej"
      ],
      "metadata": {
        "id": "VZG5upbgyxqv",
        "colab": {
          "base_uri": "https://localhost:8080/"
        },
        "outputId": "c4a22791-aa03-473a-9662-997926120dc0"
      },
      "execution_count": 25,
      "outputs": [
        {
          "output_type": "stream",
          "name": "stdout",
          "text": [
            "{5}\n",
            "{5}\n"
          ]
        }
      ]
    },
    {
      "cell_type": "code",
      "source": [
        "print(a | b)\n",
        "print(a.union(b))   # operacja równoważna do powyższej"
      ],
      "metadata": {
        "id": "z2pe_Ry3yxxU",
        "colab": {
          "base_uri": "https://localhost:8080/"
        },
        "outputId": "de386385-31ec-4732-92f4-dd2d446a51ef"
      },
      "execution_count": 26,
      "outputs": [
        {
          "output_type": "stream",
          "name": "stdout",
          "text": [
            "{1, 2, 3, 4, 5, 6, 7, 8}\n",
            "{1, 2, 3, 4, 5, 6, 7, 8}\n"
          ]
        }
      ]
    },
    {
      "cell_type": "code",
      "source": [
        "print(a - b)\n",
        "print(a.difference(b))   # operacja równoważna do powyższej"
      ],
      "metadata": {
        "id": "p15Z_ojQyx7l",
        "colab": {
          "base_uri": "https://localhost:8080/"
        },
        "outputId": "48530636-3c84-4b1d-84a5-f99d9d793ec9"
      },
      "execution_count": 27,
      "outputs": [
        {
          "output_type": "stream",
          "name": "stdout",
          "text": [
            "{1, 2, 3}\n",
            "{1, 2, 3}\n"
          ]
        }
      ]
    },
    {
      "cell_type": "markdown",
      "source": [
        "### **Łańcuchy znaków**\n",
        "Wybrane metody, więcej tu: https://pl.python.org/docs/lib/string-methods.html\n",
        "\n",
        "**s.endswith(przyrostek[, początek[, koniec]])** - sprawdzenia, czy napis jest zakończony napisem przyrostek\n",
        "\n",
        "**s.index(napis[, początek[, koniec]])** - indeks wystąpienia napisu\n",
        "\n",
        "**s.isalpha()** - czy wszystkie znaki napisu są literami i napis składa się przynajmniej z jednego znaku.\n",
        "\n",
        "**s.capitalize()** - zmienia pierwszą literę na dużą\n",
        "\n",
        "**s.center(długość)** - Centruje napis w polu o podanej długości\n",
        "\n",
        "**s.count(sub)** - zlicza wystąpienie podciągu sub w napisie s\n",
        "\n",
        "**s.encode(kodowanie)** - zwraca zakodowaną wersję napisu ('utf-8', 'ascii', 'utf-16')\n",
        "\n",
        "**s.isalnum()** - sprawdza czy wszystkie znaki są znakami alfanumerycznymi\n",
        "\n",
        "**s.isdigit()** - sprawdza czy wszystkie znaki są cyframi\n",
        "\n",
        "**s.islower()** - sprawdza czy wszystkie litery są małe\n",
        "\n",
        "**s.isspace()** - sprawdza czy wszystkie znaki są białymi znakami\n",
        "\n",
        "**s.isupper()** - sprawdza czy wszystkie litery są duże\n",
        "\n",
        "**s.join(t)** - łączy wszystkie napisy na liście t używając s jako separatora\n",
        "\n",
        "**s.lstrip()** - usuwa początkowe białe znaki\n",
        "\n",
        "**s.replace(old, new)** - zastępuje stary podciąg nowym\n",
        "\n",
        "**s.rstrip()** - usuwa końcowe białe znaki\n",
        "\n",
        "**s.split(separator)** - dzieli napis używają podanego separatora\n",
        "\n",
        "**s.strip()** - usuwa początkowe i końcowe białe znaki\n",
        "\n",
        "**s.upper()** - Zwraca kopię napisu z wszystkimi literami zamienionymi na wielkie litery."
      ],
      "metadata": {
        "id": "aB0rnQUT03A0"
      }
    },
    {
      "cell_type": "markdown",
      "source": [
        "Przykłady użycia"
      ],
      "metadata": {
        "id": "YndLQnGQ2I1y"
      }
    },
    {
      "cell_type": "code",
      "source": [
        "word = 'Python jest super, każdy to wie'\n",
        "print(word.capitalize())\n",
        "print(word.count('super'))\n",
        "print(word.endswith('per'))\n",
        "print(word.index('super'))\n",
        "print('-'.join(word))\n",
        "print(word.split(' '))\n",
        "print(word.upper())"
      ],
      "metadata": {
        "colab": {
          "base_uri": "https://localhost:8080/"
        },
        "id": "wHtgPtE-1nWQ",
        "outputId": "68ef38e3-2bb7-4e83-b6d3-0695b2b334a1"
      },
      "execution_count": 28,
      "outputs": [
        {
          "output_type": "stream",
          "name": "stdout",
          "text": [
            "Python jest super, każdy to wie\n",
            "1\n",
            "False\n",
            "12\n",
            "P-y-t-h-o-n- -j-e-s-t- -s-u-p-e-r-,- -k-a-ż-d-y- -t-o- -w-i-e\n",
            "['Python', 'jest', 'super,', 'każdy', 'to', 'wie']\n",
            "PYTHON JEST SUPER, KAŻDY TO WIE\n"
          ]
        }
      ]
    },
    {
      "cell_type": "markdown",
      "source": [
        "# Przykłady podstawowowych konstrukcji"
      ],
      "metadata": {
        "id": "JWAWkqeTz7MP"
      }
    },
    {
      "cell_type": "markdown",
      "source": [
        "### **Pętle - while, for** "
      ],
      "metadata": {
        "id": "AoGacwFW0lKq"
      }
    },
    {
      "cell_type": "code",
      "source": [
        "i = 0\n",
        "while i < 5:\n",
        "  print(i)\n",
        "  i+=1"
      ],
      "metadata": {
        "colab": {
          "base_uri": "https://localhost:8080/"
        },
        "id": "nQ8lXaMB0vQ6",
        "outputId": "685efaaf-ea73-4d82-a049-ffbbe824bb37"
      },
      "execution_count": 29,
      "outputs": [
        {
          "output_type": "stream",
          "name": "stdout",
          "text": [
            "0\n",
            "1\n",
            "2\n",
            "3\n",
            "4\n"
          ]
        }
      ]
    },
    {
      "cell_type": "code",
      "source": [
        "print(list(range(0,10,2)))"
      ],
      "metadata": {
        "colab": {
          "base_uri": "https://localhost:8080/"
        },
        "id": "FIqQnaDJ2n1A",
        "outputId": "c95dad84-44ae-4569-9193-035ba8489dbb"
      },
      "execution_count": 32,
      "outputs": [
        {
          "output_type": "stream",
          "name": "stdout",
          "text": [
            "[0, 2, 4, 6, 8]\n"
          ]
        }
      ]
    },
    {
      "cell_type": "code",
      "source": [
        "for i in range(0,5):\n",
        "  print(i)"
      ],
      "metadata": {
        "colab": {
          "base_uri": "https://localhost:8080/"
        },
        "id": "iHcAhYeB2jdZ",
        "outputId": "e73ddcc9-c5f7-4fa3-e8ad-a01a02e5bded"
      },
      "execution_count": 33,
      "outputs": [
        {
          "output_type": "stream",
          "name": "stdout",
          "text": [
            "0\n",
            "1\n",
            "2\n",
            "3\n",
            "4\n"
          ]
        }
      ]
    },
    {
      "cell_type": "code",
      "source": [
        "for i in ['Ala', 'Ola']:\n",
        "  print(i)"
      ],
      "metadata": {
        "colab": {
          "base_uri": "https://localhost:8080/"
        },
        "id": "kuz60iYz2mjQ",
        "outputId": "31d8283e-890a-4484-e158-775e67e032d8"
      },
      "execution_count": 34,
      "outputs": [
        {
          "output_type": "stream",
          "name": "stdout",
          "text": [
            "Ala\n",
            "Ola\n"
          ]
        }
      ]
    },
    {
      "cell_type": "code",
      "source": [
        "d = {\n",
        "    'Ala':20, \n",
        "    'Ola':10\n",
        "    }\n",
        "for key, value in d.items():\n",
        "  print(key, 'is ', value)"
      ],
      "metadata": {
        "colab": {
          "base_uri": "https://localhost:8080/"
        },
        "id": "QwQNa-MG3FTt",
        "outputId": "f23de363-b927-45d9-c9f2-cfa166d369da"
      },
      "execution_count": 40,
      "outputs": [
        {
          "output_type": "stream",
          "name": "stdout",
          "text": [
            "Ala is  20\n",
            "Ola is  10\n"
          ]
        }
      ]
    },
    {
      "cell_type": "markdown",
      "source": [
        "### **Instrukcje warunkowe - if, match** "
      ],
      "metadata": {
        "id": "nb7EYrw94kOo"
      }
    },
    {
      "cell_type": "code",
      "source": [
        "password = input('Podaj hasło, które jest liczbą całkowitą dodatnią: ') \n",
        "if password is '5':\n",
        "  print('Hasło prawidłowe')\n",
        "elif password > '5':\n",
        "  print('Za duża liczba')\n",
        "else:\n",
        "   print('Za mała liczba')\n"
      ],
      "metadata": {
        "colab": {
          "base_uri": "https://localhost:8080/"
        },
        "id": "u9RnknWx4wDW",
        "outputId": "a7b1e625-a2e3-4890-c040-fff66fb1fc9b"
      },
      "execution_count": 47,
      "outputs": [
        {
          "output_type": "stream",
          "name": "stdout",
          "text": [
            "Podaj hasło, które jest liczbą całkowitą dodatnią: 5\n",
            "Hasło prawidłowe\n"
          ]
        }
      ]
    },
    {
      "cell_type": "code",
      "source": [
        "# password = '5'\n",
        "\n",
        "# match password:\n",
        "#   case '5':\n",
        "#     print('Hasło prawidłowe')\n",
        "#   case other:\n",
        "#     print('Za mała liczba')"
      ],
      "metadata": {
        "colab": {
          "base_uri": "https://localhost:8080/",
          "height": 134
        },
        "id": "Oxzsb9ih4wR1",
        "outputId": "e44568d7-b8b5-4f65-e1a5-90ff8af9c969"
      },
      "execution_count": 53,
      "outputs": [
        {
          "output_type": "error",
          "ename": "SyntaxError",
          "evalue": "ignored",
          "traceback": [
            "\u001b[0;36m  File \u001b[0;32m\"<ipython-input-53-8137b0109649>\"\u001b[0;36m, line \u001b[0;32m3\u001b[0m\n\u001b[0;31m    match password:\u001b[0m\n\u001b[0m                 ^\u001b[0m\n\u001b[0;31mSyntaxError\u001b[0m\u001b[0;31m:\u001b[0m invalid syntax\n"
          ]
        }
      ]
    },
    {
      "cell_type": "markdown",
      "source": [
        "### **Funkcje**"
      ],
      "metadata": {
        "id": "6cgaElvT4bG_"
      }
    },
    {
      "cell_type": "code",
      "source": [
        "z = 1\n",
        "\n",
        "def fun1(x,y = 3):\n",
        "  global z\n",
        "  print(x+y+z)"
      ],
      "metadata": {
        "id": "R0cxi0Hr7x8v"
      },
      "execution_count": 54,
      "outputs": []
    },
    {
      "cell_type": "code",
      "source": [
        "fun1(2)"
      ],
      "metadata": {
        "colab": {
          "base_uri": "https://localhost:8080/"
        },
        "id": "5Xv1hBwO8Lq-",
        "outputId": "8c25bb03-dbc9-4270-c239-f71a6cafee33"
      },
      "execution_count": 55,
      "outputs": [
        {
          "output_type": "stream",
          "name": "stdout",
          "text": [
            "6\n"
          ]
        }
      ]
    },
    {
      "cell_type": "code",
      "source": [
        "fun1(2,4)"
      ],
      "metadata": {
        "colab": {
          "base_uri": "https://localhost:8080/"
        },
        "id": "klgTBdAQ8So1",
        "outputId": "bb3f1085-ca25-440c-916c-93a27bf9edd2"
      },
      "execution_count": 56,
      "outputs": [
        {
          "output_type": "stream",
          "name": "stdout",
          "text": [
            "7\n"
          ]
        }
      ]
    },
    {
      "cell_type": "code",
      "source": [
        "from ast import arguments\n",
        "def fun2(x,*args):\n",
        "  print(x)\n",
        "  print(args[0])\n",
        "  print(*args)"
      ],
      "metadata": {
        "id": "CRf0pD9_8XI0"
      },
      "execution_count": 70,
      "outputs": []
    },
    {
      "cell_type": "code",
      "source": [
        "fun2(100,50,[1,2,3,4,5])"
      ],
      "metadata": {
        "colab": {
          "base_uri": "https://localhost:8080/"
        },
        "id": "9w2cFKeA8zuF",
        "outputId": "d3abf5ae-9f01-470b-d593-20eb6cd1f7c8"
      },
      "execution_count": 71,
      "outputs": [
        {
          "output_type": "stream",
          "name": "stdout",
          "text": [
            "100\n",
            "50\n",
            "50 [1, 2, 3, 4, 5]\n"
          ]
        }
      ]
    },
    {
      "cell_type": "markdown",
      "source": [
        "**Funkcja enumerate()**"
      ],
      "metadata": {
        "id": "5XzdZ-asKm_J"
      }
    },
    {
      "cell_type": "code",
      "source": [
        "def main():\n",
        "    print(\"####funkcja enumerate###\")\n",
        "    a = ['a', 'b', 'c']\n",
        "#    b = [(0, 'a'), (1, 'b')] # sprawdź poniższe również dla zmiennej b\n",
        "\n",
        "    for i in enumerate(a):\n",
        "        print(i)        # [(0, 'a'), (1, 'b')]\n",
        "\n",
        "    print(\"#######\")\n",
        "    for i in enumerate(a):\n",
        "        for j in i:\n",
        "            print('j element:', j)\n",
        "    print(\"#######\")\n",
        "    for i in enumerate(a):\n",
        "        for j in i[1]:\n",
        "            print('j element:', j)\n",
        "\n",
        "if __name__ == '__main__':\n",
        "    main()"
      ],
      "metadata": {
        "colab": {
          "base_uri": "https://localhost:8080/"
        },
        "id": "KipVgZqqJ-ji",
        "outputId": "6bcb2f78-f603-4535-8a69-656668a81aa8"
      },
      "execution_count": 72,
      "outputs": [
        {
          "output_type": "stream",
          "name": "stdout",
          "text": [
            "####funkcja enumerate###\n",
            "(0, 'a')\n",
            "(1, 'b')\n",
            "(2, 'c')\n",
            "#######\n",
            "j element: 0\n",
            "j element: a\n",
            "j element: 1\n",
            "j element: b\n",
            "j element: 2\n",
            "j element: c\n",
            "#######\n",
            "j element: a\n",
            "j element: b\n",
            "j element: c\n"
          ]
        }
      ]
    },
    {
      "cell_type": "markdown",
      "source": [
        "**Funkcje: lambda(), map(), filter()**"
      ],
      "metadata": {
        "id": "iSqwUFEvK1ib"
      }
    },
    {
      "cell_type": "code",
      "source": [
        "dodaj = lambda x, y: x + y   # funkcja anonimowa\n",
        "print('Wynik wywołania funkcji lambda:', dodaj(3, 5))"
      ],
      "metadata": {
        "id": "0B8luV0uOsq6"
      },
      "execution_count": null,
      "outputs": []
    },
    {
      "cell_type": "code",
      "source": [
        "def potega1(liczba):\n",
        "    wynik = liczba ** 2\n",
        "    return wynik\n",
        "\n",
        "l1 = [2, 10, 15, 100, -5]  # to samo można uzyskać korzystając z pętli: [double(n) for n in l1]\n",
        "\n",
        "print(list(map(potega1, l1)))  # wynik funkcji map wpisz do listy jeśli chcesz obejrzeć rezultat"
      ],
      "metadata": {
        "colab": {
          "base_uri": "https://localhost:8080/"
        },
        "id": "_otxuUMuK076",
        "outputId": "78465758-f5da-42ec-c873-38df39504ca9"
      },
      "execution_count": 79,
      "outputs": [
        {
          "output_type": "stream",
          "name": "stdout",
          "text": [
            "[4, 100, 225, 10000, 25]\n"
          ]
        }
      ]
    },
    {
      "cell_type": "code",
      "source": [
        "# analog powyższego ale z funkcją lambda\n",
        "potega2 = lambda liczba:liczba**2\n",
        "wynik2 = list(map(potega2, l1))\n",
        "print(wynik2)\n"
      ],
      "metadata": {
        "colab": {
          "base_uri": "https://localhost:8080/"
        },
        "id": "-TT3vXNBPR5D",
        "outputId": "90ef4453-f1de-4674-8d6d-6c0f1018aeca"
      },
      "execution_count": 81,
      "outputs": [
        {
          "output_type": "stream",
          "name": "stdout",
          "text": [
            "[4, 100, 225, 10000, 25]\n"
          ]
        }
      ]
    },
    {
      "cell_type": "markdown",
      "source": [
        "## **Zapis do pliku**"
      ],
      "metadata": {
        "id": "bNQl56uwPXWq"
      }
    },
    {
      "cell_type": "code",
      "source": [],
      "metadata": {
        "id": "76KloPjyP640"
      },
      "execution_count": null,
      "outputs": []
    },
    {
      "cell_type": "markdown",
      "source": [
        "**Picle** - szybki zapis i odczyt danych"
      ],
      "metadata": {
        "id": "CEwOxxhTP8Gj"
      }
    },
    {
      "cell_type": "code",
      "source": [],
      "metadata": {
        "id": "bq0hiskrQDYh"
      },
      "execution_count": null,
      "outputs": []
    },
    {
      "cell_type": "markdown",
      "source": [
        "## Pakiet **matplotlib** - wykresy\n"
      ],
      "metadata": {
        "id": "uqukr6B7MBt7"
      }
    },
    {
      "cell_type": "code",
      "source": [
        "import matplotlib.pyplot as plt  # biblioteka do rysowania wykresów"
      ],
      "metadata": {
        "id": "pzkzfnXlMhde"
      },
      "execution_count": 73,
      "outputs": []
    },
    {
      "cell_type": "code",
      "source": [
        "x = [1,2,3,8]\n",
        "y = [1,4,9,16]\n",
        "plt.plot(x, y, marker = 'o') #\n",
        "plt.axis([0,10,0,20]) #ustaw zakres osi X i Y\n",
        "plt.xlabel('OX') #podpisz oś x\n",
        "plt.ylabel('OY') #podpisz oś Y\n",
        "plt.show() #narysuj wykres"
      ],
      "metadata": {
        "colab": {
          "base_uri": "https://localhost:8080/",
          "height": 283
        },
        "id": "CbEJKwkWMkuK",
        "outputId": "2da51b24-af4a-4190-cc14-edc288a74b02"
      },
      "execution_count": 74,
      "outputs": [
        {
          "output_type": "display_data",
          "data": {
            "text/plain": [
              "<Figure size 432x288 with 1 Axes>"
            ],
            "image/png": "[encoded data removed]"
          },
          "metadata": {
            "needs_background": "light"
          }
        }
      ]
    },
    {
      "cell_type": "code",
      "source": [
        "import numpy as np"
      ],
      "metadata": {
        "id": "e3eq79OYNHID"
      },
      "execution_count": 75,
      "outputs": []
    },
    {
      "cell_type": "code",
      "source": [
        "x = 100 + 20*np.random.randn(10000)\n",
        "print(np.random.randn(10000)) # metoda random.randn losuje 10000 liczb z sigma=1 wokół średniej = 0\n",
        "plt.hist(x, 100, facecolor ='blue')  # 100 przedziałów\n",
        "# histogram dla danych podzielonych na 100 przedziałów\n",
        "plt.xlabel('Przedziały')\n",
        "plt.ylabel('Prawdopodobienstwo')\n",
        "plt.title('Rownanie cos')\n",
        "plt.grid(True) # wstaw siatkę na wykresie\n",
        "plt.show()\n"
      ],
      "metadata": {
        "colab": {
          "base_uri": "https://localhost:8080/",
          "height": 331
        },
        "id": "CZ_0ik_3Muvy",
        "outputId": "bb006505-3682-4084-c666-0ad2b04181f4"
      },
      "execution_count": 76,
      "outputs": [
        {
          "output_type": "stream",
          "name": "stdout",
          "text": [
            "[-1.55215247  0.14302361  1.33367926 ... -0.81217712 -1.69854389\n",
            " -0.85045402]\n"
          ]
        },
        {
          "output_type": "display_data",
          "data": {
            "text/plain": [
              "<Figure size 432x288 with 1 Axes>"
            ],
            "image/png": "[encoded data removed]"
          },
          "metadata": {
            "needs_background": "light"
          }
        }
      ]
    },
    {
      "cell_type": "code",
      "source": [
        "labels = ['Tulipany', 'Róże', 'Lilie', 'Żonkile']\n",
        "sizes = [25, 20, 40, 15]   #procenty części\n",
        "explode = (0, 0.1, 0, 0)  # wysunięcie określonej części\n",
        "fig1, ax1 = plt.subplots() # subplots - wiele wykresów w 1 oknie\n",
        "ax1.pie(sizes, explode=explode, labels=labels, autopct='%1.1f%%',\n",
        "        shadow=True, startangle=90) # explode wysunięcie wykresu,\n",
        "# startangle obrót wykresu\n",
        "ax1.axis('equal')  # osie kwadratowe\n",
        "plt.show()"
      ],
      "metadata": {
        "colab": {
          "base_uri": "https://localhost:8080/",
          "height": 248
        },
        "id": "vvtKSoZ2Mk8g",
        "outputId": "574eb356-b93f-4d8f-862d-8fb1a5c673b7"
      },
      "execution_count": 77,
      "outputs": [
        {
          "output_type": "display_data",
          "data": {
            "text/plain": [
              "<Figure size 432x288 with 1 Axes>"
            ],
            "image/png": "[encoded data removed]"
          },
          "metadata": {}
        }
      ]
    }
  ]
}